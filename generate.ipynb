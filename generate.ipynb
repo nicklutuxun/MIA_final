{
 "cells": [
  {
   "cell_type": "code",
   "execution_count": 1,
   "metadata": {},
   "outputs": [],
   "source": [
    "from PIL import Image\n",
    "import os\n",
    "import torch\n",
    "import numpy as np\n",
    "import matplotlib.pyplot as plt"
   ]
  },
  {
   "cell_type": "code",
   "execution_count": 2,
   "metadata": {},
   "outputs": [],
   "source": [
    "count = 1\n",
    "for i in range(1,21):\n",
    "    img = np.asarray(Image.open(f\"./data/{i}_rgb.tif\").convert('RGB'))\n",
    "    seg = np.asarray(Image.open(f\"./data/{i}_seg.png\").convert('L'))\n",
    "    classes = np.unique(seg)\n",
    "\n",
    "    for j in range(1,len(classes)-1):    \n",
    "        c = (seg == classes[j+1])\n",
    "        mask = np.dstack((c,c,c))\n",
    "        cell = img*mask\n",
    "\n",
    "        mask = (cell).any(2)\n",
    "        cell = cell[np.ix_(mask.any(1),mask.any(0))]\n",
    "\n",
    "        cell_img = Image.fromarray(cell, \"RGB\")\n",
    "        cell_img.save(f\"./cell images/{count}.png\")\n",
    "        count = count + 1\n",
    "        \n",
    "\n"
   ]
  },
  {
   "cell_type": "code",
   "execution_count": null,
   "metadata": {},
   "outputs": [],
   "source": []
  }
 ],
 "metadata": {
  "language_info": {
   "name": "python"
  },
  "orig_nbformat": 4
 },
 "nbformat": 4,
 "nbformat_minor": 2
}
